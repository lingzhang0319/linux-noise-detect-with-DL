{
 "cells": [
  {
   "cell_type": "code",
   "execution_count": 102,
   "metadata": {
    "collapsed": true
   },
   "outputs": [],
   "source": [
    "import pandas as pd\n",
    "import numpy as np\n",
    "import pickle\n",
    "import time\n",
    "import os"
   ]
  },
  {
   "cell_type": "code",
   "execution_count": 30,
   "metadata": {},
   "outputs": [],
   "source": [
    "x=pd.read_csv('./TempData/Linux_Process_Detect/training_set1/wer1_normal.csv', index_col=False, header=None)"
   ]
  },
  {
   "cell_type": "code",
   "execution_count": 35,
   "metadata": {},
   "outputs": [],
   "source": [
    "y=x.values[0]"
   ]
  },
  {
   "cell_type": "code",
   "execution_count": 78,
   "metadata": {},
   "outputs": [],
   "source": [
    "prefix = './TempData/Linux_Process_Detect/'\n",
    "dirnames = [prefix+name+'/' for name in os.listdir(prefix) if not name.startswith('.') and os.path.isdir(prefix+name)]"
   ]
  },
  {
   "cell_type": "code",
   "execution_count": 79,
   "metadata": {},
   "outputs": [
    {
     "data": {
      "text/plain": [
       "['./TempData/Linux_Process_Detect/training_set11/',\n",
       " './TempData/Linux_Process_Detect/training_set10/',\n",
       " './TempData/Linux_Process_Detect/training_set8/',\n",
       " './TempData/Linux_Process_Detect/training_set6/',\n",
       " './TempData/Linux_Process_Detect/training_set1/',\n",
       " './TempData/Linux_Process_Detect/training_set7/',\n",
       " './TempData/Linux_Process_Detect/training_set9/',\n",
       " './TempData/Linux_Process_Detect/training_set12/',\n",
       " './TempData/Linux_Process_Detect/training_set13/',\n",
       " './TempData/Linux_Process_Detect/training_set14/',\n",
       " './TempData/Linux_Process_Detect/training_set2/',\n",
       " './TempData/Linux_Process_Detect/training_set5/',\n",
       " './TempData/Linux_Process_Detect/training_set4/',\n",
       " './TempData/Linux_Process_Detect/training_set3/']"
      ]
     },
     "execution_count": 79,
     "metadata": {},
     "output_type": "execute_result"
    }
   ],
   "source": [
    "dirnames"
   ]
  },
  {
   "cell_type": "code",
   "execution_count": 80,
   "metadata": {},
   "outputs": [],
   "source": [
    "names = []\n",
    "for dirname in dirnames:\n",
    "    names.extend([dirname+name for name in os.listdir(dirname) if not name.startswith('.')])"
   ]
  },
  {
   "cell_type": "code",
   "execution_count": 81,
   "metadata": {},
   "outputs": [
    {
     "data": {
      "text/plain": [
       "['./TempData/Linux_Process_Detect/training_set11/wer18_response.csv',\n",
       " './TempData/Linux_Process_Detect/training_set11/wer14_normal.csv',\n",
       " './TempData/Linux_Process_Detect/training_set11/wer2_normal.csv',\n",
       " './TempData/Linux_Process_Detect/training_set11/wer19_normal.csv',\n",
       " './TempData/Linux_Process_Detect/training_set11/wer19_response.csv',\n",
       " './TempData/Linux_Process_Detect/training_set11/wer7_normal.csv',\n",
       " './TempData/Linux_Process_Detect/training_set11/wer11_normal.csv',\n",
       " './TempData/Linux_Process_Detect/training_set11/wer22_response.csv',\n",
       " './TempData/Linux_Process_Detect/training_set11/wer16_normal.csv',\n",
       " './TempData/Linux_Process_Detect/training_set11/wer21_normal.csv',\n",
       " './TempData/Linux_Process_Detect/training_set11/wer7_response.csv',\n",
       " './TempData/Linux_Process_Detect/training_set11/wer13_response.csv',\n",
       " './TempData/Linux_Process_Detect/training_set11/wer14_response.csv',\n",
       " './TempData/Linux_Process_Detect/training_set11/wer5_normal.csv',\n",
       " './TempData/Linux_Process_Detect/training_set11/wer15_response.csv',\n",
       " './TempData/Linux_Process_Detect/training_set11/wer12_response.csv',\n",
       " './TempData/Linux_Process_Detect/training_set11/wer13_normal.csv',\n",
       " './TempData/Linux_Process_Detect/training_set11/wer8_normal.csv',\n",
       " './TempData/Linux_Process_Detect/training_set11/wer6_response.csv',\n",
       " './TempData/Linux_Process_Detect/training_set11/wer1_response.csv',\n",
       " './TempData/Linux_Process_Detect/training_set11/wer6_normal.csv',\n",
       " './TempData/Linux_Process_Detect/training_set11/wer21_response.csv',\n",
       " './TempData/Linux_Process_Detect/training_set11/wer10_response.csv',\n",
       " './TempData/Linux_Process_Detect/training_set11/wer17_response.csv',\n",
       " './TempData/Linux_Process_Detect/training_set11/wer3_response.csv',\n",
       " './TempData/Linux_Process_Detect/training_set11/wer4_response.csv',\n",
       " './TempData/Linux_Process_Detect/training_set11/wer10_normal.csv',\n",
       " './TempData/Linux_Process_Detect/training_set11/wer20_response.csv',\n",
       " './TempData/Linux_Process_Detect/training_set11/wer22_normal.csv',\n",
       " './TempData/Linux_Process_Detect/training_set11/wer15_normal.csv',\n",
       " './TempData/Linux_Process_Detect/training_set11/wer5_response.csv',\n",
       " './TempData/Linux_Process_Detect/training_set11/wer2_response.csv',\n",
       " './TempData/Linux_Process_Detect/training_set11/wer3_normal.csv',\n",
       " './TempData/Linux_Process_Detect/training_set11/wer18_normal.csv',\n",
       " './TempData/Linux_Process_Detect/training_set11/wer16_response.csv',\n",
       " './TempData/Linux_Process_Detect/training_set11/wer11_response.csv',\n",
       " './TempData/Linux_Process_Detect/training_set11/wer8_response.csv',\n",
       " './TempData/Linux_Process_Detect/training_set11/wer4_normal.csv',\n",
       " './TempData/Linux_Process_Detect/training_set11/wer12_normal.csv',\n",
       " './TempData/Linux_Process_Detect/training_set11/wer9_normal.csv',\n",
       " './TempData/Linux_Process_Detect/training_set11/wer9_response.csv',\n",
       " './TempData/Linux_Process_Detect/training_set11/wer17_normal.csv',\n",
       " './TempData/Linux_Process_Detect/training_set11/wer20_normal.csv',\n",
       " './TempData/Linux_Process_Detect/training_set11/wer1_normal.csv',\n",
       " './TempData/Linux_Process_Detect/training_set10/wer18_response.csv',\n",
       " './TempData/Linux_Process_Detect/training_set10/wer23_normal.csv',\n",
       " './TempData/Linux_Process_Detect/training_set10/wer14_normal.csv',\n",
       " './TempData/Linux_Process_Detect/training_set10/wer2_normal.csv',\n",
       " './TempData/Linux_Process_Detect/training_set10/wer19_normal.csv',\n",
       " './TempData/Linux_Process_Detect/training_set10/wer19_response.csv',\n",
       " './TempData/Linux_Process_Detect/training_set10/wer7_normal.csv',\n",
       " './TempData/Linux_Process_Detect/training_set10/wer28_response.csv',\n",
       " './TempData/Linux_Process_Detect/training_set10/wer11_normal.csv',\n",
       " './TempData/Linux_Process_Detect/training_set10/wer26_normal.csv',\n",
       " './TempData/Linux_Process_Detect/training_set10/wer22_response.csv',\n",
       " './TempData/Linux_Process_Detect/training_set10/wer16_normal.csv',\n",
       " './TempData/Linux_Process_Detect/training_set10/wer25_response.csv',\n",
       " './TempData/Linux_Process_Detect/training_set10/wer21_normal.csv',\n",
       " './TempData/Linux_Process_Detect/training_set10/wer7_response.csv',\n",
       " './TempData/Linux_Process_Detect/training_set10/wer13_response.csv',\n",
       " './TempData/Linux_Process_Detect/training_set10/wer14_response.csv',\n",
       " './TempData/Linux_Process_Detect/training_set10/wer24_response.csv',\n",
       " './TempData/Linux_Process_Detect/training_set10/wer23_response.csv',\n",
       " './TempData/Linux_Process_Detect/training_set10/wer5_normal.csv',\n",
       " './TempData/Linux_Process_Detect/training_set10/wer15_response.csv',\n",
       " './TempData/Linux_Process_Detect/training_set10/wer12_response.csv',\n",
       " './TempData/Linux_Process_Detect/training_set10/wer24_normal.csv',\n",
       " './TempData/Linux_Process_Detect/training_set10/wer13_normal.csv',\n",
       " './TempData/Linux_Process_Detect/training_set10/wer8_normal.csv',\n",
       " './TempData/Linux_Process_Detect/training_set10/wer6_response.csv',\n",
       " './TempData/Linux_Process_Detect/training_set10/wer1_response.csv',\n",
       " './TempData/Linux_Process_Detect/training_set10/wer6_normal.csv',\n",
       " './TempData/Linux_Process_Detect/training_set10/wer21_response.csv',\n",
       " './TempData/Linux_Process_Detect/training_set10/wer26_response.csv',\n",
       " './TempData/Linux_Process_Detect/training_set10/wer10_response.csv',\n",
       " './TempData/Linux_Process_Detect/training_set10/wer17_response.csv',\n",
       " './TempData/Linux_Process_Detect/training_set10/wer3_response.csv',\n",
       " './TempData/Linux_Process_Detect/training_set10/wer4_response.csv',\n",
       " './TempData/Linux_Process_Detect/training_set10/wer10_normal.csv',\n",
       " './TempData/Linux_Process_Detect/training_set10/wer27_normal.csv',\n",
       " './TempData/Linux_Process_Detect/training_set10/wer27_response.csv',\n",
       " './TempData/Linux_Process_Detect/training_set10/wer20_response.csv',\n",
       " './TempData/Linux_Process_Detect/training_set10/wer22_normal.csv',\n",
       " './TempData/Linux_Process_Detect/training_set10/wer15_normal.csv',\n",
       " './TempData/Linux_Process_Detect/training_set10/wer5_response.csv',\n",
       " './TempData/Linux_Process_Detect/training_set10/wer2_response.csv',\n",
       " './TempData/Linux_Process_Detect/training_set10/wer3_normal.csv',\n",
       " './TempData/Linux_Process_Detect/training_set10/wer18_normal.csv',\n",
       " './TempData/Linux_Process_Detect/training_set10/wer16_response.csv',\n",
       " './TempData/Linux_Process_Detect/training_set10/wer11_response.csv',\n",
       " './TempData/Linux_Process_Detect/training_set10/wer28_normal.csv',\n",
       " './TempData/Linux_Process_Detect/training_set10/wer8_response.csv',\n",
       " './TempData/Linux_Process_Detect/training_set10/wer4_normal.csv',\n",
       " './TempData/Linux_Process_Detect/training_set10/wer25_normal.csv',\n",
       " './TempData/Linux_Process_Detect/training_set10/wer12_normal.csv',\n",
       " './TempData/Linux_Process_Detect/training_set10/wer9_normal.csv',\n",
       " './TempData/Linux_Process_Detect/training_set10/wer9_response.csv',\n",
       " './TempData/Linux_Process_Detect/training_set10/wer17_normal.csv',\n",
       " './TempData/Linux_Process_Detect/training_set10/wer20_normal.csv',\n",
       " './TempData/Linux_Process_Detect/training_set10/wer1_normal.csv',\n",
       " './TempData/Linux_Process_Detect/training_set8/wer18_response.csv',\n",
       " './TempData/Linux_Process_Detect/training_set8/wer23_normal.csv',\n",
       " './TempData/Linux_Process_Detect/training_set8/wer14_normal.csv',\n",
       " './TempData/Linux_Process_Detect/training_set8/wer2_normal.csv',\n",
       " './TempData/Linux_Process_Detect/training_set8/wer19_normal.csv',\n",
       " './TempData/Linux_Process_Detect/training_set8/wer19_response.csv',\n",
       " './TempData/Linux_Process_Detect/training_set8/wer7_normal.csv',\n",
       " './TempData/Linux_Process_Detect/training_set8/wer11_normal.csv',\n",
       " './TempData/Linux_Process_Detect/training_set8/wer26_normal.csv',\n",
       " './TempData/Linux_Process_Detect/training_set8/wer22_response.csv',\n",
       " './TempData/Linux_Process_Detect/training_set8/wer16_normal.csv',\n",
       " './TempData/Linux_Process_Detect/training_set8/wer25_response.csv',\n",
       " './TempData/Linux_Process_Detect/training_set8/wer21_normal.csv',\n",
       " './TempData/Linux_Process_Detect/training_set8/wer7_response.csv',\n",
       " './TempData/Linux_Process_Detect/training_set8/wer13_response.csv',\n",
       " './TempData/Linux_Process_Detect/training_set8/wer14_response.csv',\n",
       " './TempData/Linux_Process_Detect/training_set8/wer24_response.csv',\n",
       " './TempData/Linux_Process_Detect/training_set8/wer23_response.csv',\n",
       " './TempData/Linux_Process_Detect/training_set8/wer5_normal.csv',\n",
       " './TempData/Linux_Process_Detect/training_set8/wer15_response.csv',\n",
       " './TempData/Linux_Process_Detect/training_set8/wer12_response.csv',\n",
       " './TempData/Linux_Process_Detect/training_set8/wer24_normal.csv',\n",
       " './TempData/Linux_Process_Detect/training_set8/wer13_normal.csv',\n",
       " './TempData/Linux_Process_Detect/training_set8/wer8_normal.csv',\n",
       " './TempData/Linux_Process_Detect/training_set8/wer6_response.csv',\n",
       " './TempData/Linux_Process_Detect/training_set8/wer1_response.csv',\n",
       " './TempData/Linux_Process_Detect/training_set8/wer6_normal.csv',\n",
       " './TempData/Linux_Process_Detect/training_set8/wer21_response.csv',\n",
       " './TempData/Linux_Process_Detect/training_set8/wer26_response.csv',\n",
       " './TempData/Linux_Process_Detect/training_set8/wer10_response.csv',\n",
       " './TempData/Linux_Process_Detect/training_set8/wer17_response.csv',\n",
       " './TempData/Linux_Process_Detect/training_set8/wer3_response.csv',\n",
       " './TempData/Linux_Process_Detect/training_set8/wer4_response.csv',\n",
       " './TempData/Linux_Process_Detect/training_set8/wer10_normal.csv',\n",
       " './TempData/Linux_Process_Detect/training_set8/wer27_normal.csv',\n",
       " './TempData/Linux_Process_Detect/training_set8/wer27_response.csv',\n",
       " './TempData/Linux_Process_Detect/training_set8/wer20_response.csv',\n",
       " './TempData/Linux_Process_Detect/training_set8/wer22_normal.csv',\n",
       " './TempData/Linux_Process_Detect/training_set8/wer15_normal.csv',\n",
       " './TempData/Linux_Process_Detect/training_set8/wer5_response.csv',\n",
       " './TempData/Linux_Process_Detect/training_set8/wer2_response.csv',\n",
       " './TempData/Linux_Process_Detect/training_set8/wer3_normal.csv',\n",
       " './TempData/Linux_Process_Detect/training_set8/wer18_normal.csv',\n",
       " './TempData/Linux_Process_Detect/training_set8/wer16_response.csv',\n",
       " './TempData/Linux_Process_Detect/training_set8/wer11_response.csv',\n",
       " './TempData/Linux_Process_Detect/training_set8/wer8_response.csv',\n",
       " './TempData/Linux_Process_Detect/training_set8/wer4_normal.csv',\n",
       " './TempData/Linux_Process_Detect/training_set8/wer25_normal.csv',\n",
       " './TempData/Linux_Process_Detect/training_set8/wer12_normal.csv',\n",
       " './TempData/Linux_Process_Detect/training_set8/wer9_normal.csv',\n",
       " './TempData/Linux_Process_Detect/training_set8/wer9_response.csv',\n",
       " './TempData/Linux_Process_Detect/training_set8/wer17_normal.csv',\n",
       " './TempData/Linux_Process_Detect/training_set8/wer20_normal.csv',\n",
       " './TempData/Linux_Process_Detect/training_set8/wer1_normal.csv',\n",
       " './TempData/Linux_Process_Detect/training_set6/wer18_response.csv',\n",
       " './TempData/Linux_Process_Detect/training_set6/wer23_normal.csv',\n",
       " './TempData/Linux_Process_Detect/training_set6/wer14_normal.csv',\n",
       " './TempData/Linux_Process_Detect/training_set6/wer2_normal.csv',\n",
       " './TempData/Linux_Process_Detect/training_set6/wer19_normal.csv',\n",
       " './TempData/Linux_Process_Detect/training_set6/wer19_response.csv',\n",
       " './TempData/Linux_Process_Detect/training_set6/wer7_normal.csv',\n",
       " './TempData/Linux_Process_Detect/training_set6/wer11_normal.csv',\n",
       " './TempData/Linux_Process_Detect/training_set6/wer22_response.csv',\n",
       " './TempData/Linux_Process_Detect/training_set6/wer16_normal.csv',\n",
       " './TempData/Linux_Process_Detect/training_set6/wer25_response.csv',\n",
       " './TempData/Linux_Process_Detect/training_set6/wer21_normal.csv',\n",
       " './TempData/Linux_Process_Detect/training_set6/wer7_response.csv',\n",
       " './TempData/Linux_Process_Detect/training_set6/wer13_response.csv',\n",
       " './TempData/Linux_Process_Detect/training_set6/wer14_response.csv',\n",
       " './TempData/Linux_Process_Detect/training_set6/wer24_response.csv',\n",
       " './TempData/Linux_Process_Detect/training_set6/wer23_response.csv',\n",
       " './TempData/Linux_Process_Detect/training_set6/wer5_normal.csv',\n",
       " './TempData/Linux_Process_Detect/training_set6/wer15_response.csv',\n",
       " './TempData/Linux_Process_Detect/training_set6/wer12_response.csv',\n",
       " './TempData/Linux_Process_Detect/training_set6/wer24_normal.csv',\n",
       " './TempData/Linux_Process_Detect/training_set6/wer13_normal.csv',\n",
       " './TempData/Linux_Process_Detect/training_set6/wer8_normal.csv',\n",
       " './TempData/Linux_Process_Detect/training_set6/wer6_response.csv',\n",
       " './TempData/Linux_Process_Detect/training_set6/wer1_response.csv',\n",
       " './TempData/Linux_Process_Detect/training_set6/wer6_normal.csv',\n",
       " './TempData/Linux_Process_Detect/training_set6/wer21_response.csv',\n",
       " './TempData/Linux_Process_Detect/training_set6/wer10_response.csv',\n",
       " './TempData/Linux_Process_Detect/training_set6/wer17_response.csv',\n",
       " './TempData/Linux_Process_Detect/training_set6/wer3_response.csv',\n",
       " './TempData/Linux_Process_Detect/training_set6/wer4_response.csv',\n",
       " './TempData/Linux_Process_Detect/training_set6/wer10_normal.csv',\n",
       " './TempData/Linux_Process_Detect/training_set6/wer20_response.csv',\n",
       " './TempData/Linux_Process_Detect/training_set6/wer22_normal.csv',\n",
       " './TempData/Linux_Process_Detect/training_set6/wer15_normal.csv',\n",
       " './TempData/Linux_Process_Detect/training_set6/wer5_response.csv',\n",
       " './TempData/Linux_Process_Detect/training_set6/wer2_response.csv',\n",
       " './TempData/Linux_Process_Detect/training_set6/wer3_normal.csv',\n",
       " './TempData/Linux_Process_Detect/training_set6/wer18_normal.csv',\n",
       " './TempData/Linux_Process_Detect/training_set6/wer16_response.csv',\n",
       " './TempData/Linux_Process_Detect/training_set6/wer11_response.csv',\n",
       " './TempData/Linux_Process_Detect/training_set6/wer8_response.csv',\n",
       " './TempData/Linux_Process_Detect/training_set6/wer4_normal.csv',\n",
       " './TempData/Linux_Process_Detect/training_set6/wer25_normal.csv',\n",
       " './TempData/Linux_Process_Detect/training_set6/wer12_normal.csv',\n",
       " './TempData/Linux_Process_Detect/training_set6/wer9_normal.csv',\n",
       " './TempData/Linux_Process_Detect/training_set6/wer9_response.csv',\n",
       " './TempData/Linux_Process_Detect/training_set6/wer17_normal.csv',\n",
       " './TempData/Linux_Process_Detect/training_set6/wer20_normal.csv',\n",
       " './TempData/Linux_Process_Detect/training_set6/wer1_normal.csv',\n",
       " './TempData/Linux_Process_Detect/training_set1/wer18_response.csv',\n",
       " './TempData/Linux_Process_Detect/training_set1/wer14_normal.csv',\n",
       " './TempData/Linux_Process_Detect/training_set1/wer2_normal.csv',\n",
       " './TempData/Linux_Process_Detect/training_set1/wer19_normal.csv',\n",
       " './TempData/Linux_Process_Detect/training_set1/wer19_response.csv',\n",
       " './TempData/Linux_Process_Detect/training_set1/wer7_normal.csv',\n",
       " './TempData/Linux_Process_Detect/training_set1/wer11_normal.csv',\n",
       " './TempData/Linux_Process_Detect/training_set1/wer16_normal.csv',\n",
       " './TempData/Linux_Process_Detect/training_set1/wer21_normal.csv',\n",
       " './TempData/Linux_Process_Detect/training_set1/wer7_response.csv',\n",
       " './TempData/Linux_Process_Detect/training_set1/wer13_response.csv',\n",
       " './TempData/Linux_Process_Detect/training_set1/wer14_response.csv',\n",
       " './TempData/Linux_Process_Detect/training_set1/wer5_normal.csv',\n",
       " './TempData/Linux_Process_Detect/training_set1/wer15_response.csv',\n",
       " './TempData/Linux_Process_Detect/training_set1/wer12_response.csv',\n",
       " './TempData/Linux_Process_Detect/training_set1/wer13_normal.csv',\n",
       " './TempData/Linux_Process_Detect/training_set1/wer8_normal.csv',\n",
       " './TempData/Linux_Process_Detect/training_set1/wer6_response.csv',\n",
       " './TempData/Linux_Process_Detect/training_set1/wer1_response.csv',\n",
       " './TempData/Linux_Process_Detect/training_set1/wer6_normal.csv',\n",
       " './TempData/Linux_Process_Detect/training_set1/wer21_response.csv',\n",
       " './TempData/Linux_Process_Detect/training_set1/wer10_response.csv',\n",
       " './TempData/Linux_Process_Detect/training_set1/wer17_response.csv',\n",
       " './TempData/Linux_Process_Detect/training_set1/wer3_response.csv',\n",
       " './TempData/Linux_Process_Detect/training_set1/wer4_response.csv',\n",
       " './TempData/Linux_Process_Detect/training_set1/wer10_normal.csv',\n",
       " './TempData/Linux_Process_Detect/training_set1/wer20_response.csv',\n",
       " './TempData/Linux_Process_Detect/training_set1/wer15_normal.csv',\n",
       " './TempData/Linux_Process_Detect/training_set1/wer5_response.csv',\n",
       " './TempData/Linux_Process_Detect/training_set1/wer2_response.csv',\n",
       " './TempData/Linux_Process_Detect/training_set1/wer3_normal.csv',\n",
       " './TempData/Linux_Process_Detect/training_set1/wer18_normal.csv',\n",
       " './TempData/Linux_Process_Detect/training_set1/wer16_response.csv',\n",
       " './TempData/Linux_Process_Detect/training_set1/wer11_response.csv',\n",
       " './TempData/Linux_Process_Detect/training_set1/wer8_response.csv',\n",
       " './TempData/Linux_Process_Detect/training_set1/wer4_normal.csv',\n",
       " './TempData/Linux_Process_Detect/training_set1/wer12_normal.csv',\n",
       " './TempData/Linux_Process_Detect/training_set1/wer9_normal.csv',\n",
       " './TempData/Linux_Process_Detect/training_set1/wer9_response.csv',\n",
       " './TempData/Linux_Process_Detect/training_set1/wer17_normal.csv',\n",
       " './TempData/Linux_Process_Detect/training_set1/wer20_normal.csv',\n",
       " './TempData/Linux_Process_Detect/training_set1/wer1_normal.csv',\n",
       " './TempData/Linux_Process_Detect/training_set7/wer18_response.csv',\n",
       " './TempData/Linux_Process_Detect/training_set7/wer23_normal.csv',\n",
       " './TempData/Linux_Process_Detect/training_set7/wer14_normal.csv',\n",
       " './TempData/Linux_Process_Detect/training_set7/wer2_normal.csv',\n",
       " './TempData/Linux_Process_Detect/training_set7/wer19_normal.csv',\n",
       " './TempData/Linux_Process_Detect/training_set7/wer19_response.csv',\n",
       " './TempData/Linux_Process_Detect/training_set7/wer7_normal.csv',\n",
       " './TempData/Linux_Process_Detect/training_set7/wer11_normal.csv',\n",
       " './TempData/Linux_Process_Detect/training_set7/wer26_normal.csv',\n",
       " './TempData/Linux_Process_Detect/training_set7/wer22_response.csv',\n",
       " './TempData/Linux_Process_Detect/training_set7/wer16_normal.csv',\n",
       " './TempData/Linux_Process_Detect/training_set7/wer25_response.csv',\n",
       " './TempData/Linux_Process_Detect/training_set7/wer21_normal.csv',\n",
       " './TempData/Linux_Process_Detect/training_set7/wer7_response.csv',\n",
       " './TempData/Linux_Process_Detect/training_set7/wer13_response.csv',\n",
       " './TempData/Linux_Process_Detect/training_set7/wer14_response.csv',\n",
       " './TempData/Linux_Process_Detect/training_set7/wer24_response.csv',\n",
       " './TempData/Linux_Process_Detect/training_set7/wer23_response.csv',\n",
       " './TempData/Linux_Process_Detect/training_set7/wer5_normal.csv',\n",
       " './TempData/Linux_Process_Detect/training_set7/wer15_response.csv',\n",
       " './TempData/Linux_Process_Detect/training_set7/wer12_response.csv',\n",
       " './TempData/Linux_Process_Detect/training_set7/wer24_normal.csv',\n",
       " './TempData/Linux_Process_Detect/training_set7/wer13_normal.csv',\n",
       " './TempData/Linux_Process_Detect/training_set7/wer8_normal.csv',\n",
       " './TempData/Linux_Process_Detect/training_set7/wer6_response.csv',\n",
       " './TempData/Linux_Process_Detect/training_set7/wer1_response.csv',\n",
       " './TempData/Linux_Process_Detect/training_set7/wer6_normal.csv',\n",
       " './TempData/Linux_Process_Detect/training_set7/wer21_response.csv',\n",
       " './TempData/Linux_Process_Detect/training_set7/wer26_response.csv',\n",
       " './TempData/Linux_Process_Detect/training_set7/wer10_response.csv',\n",
       " './TempData/Linux_Process_Detect/training_set7/wer17_response.csv',\n",
       " './TempData/Linux_Process_Detect/training_set7/wer3_response.csv',\n",
       " './TempData/Linux_Process_Detect/training_set7/wer4_response.csv',\n",
       " './TempData/Linux_Process_Detect/training_set7/wer10_normal.csv',\n",
       " './TempData/Linux_Process_Detect/training_set7/wer20_response.csv',\n",
       " './TempData/Linux_Process_Detect/training_set7/wer22_normal.csv',\n",
       " './TempData/Linux_Process_Detect/training_set7/wer15_normal.csv',\n",
       " './TempData/Linux_Process_Detect/training_set7/wer5_response.csv',\n",
       " './TempData/Linux_Process_Detect/training_set7/wer2_response.csv',\n",
       " './TempData/Linux_Process_Detect/training_set7/wer3_normal.csv',\n",
       " './TempData/Linux_Process_Detect/training_set7/wer18_normal.csv',\n",
       " './TempData/Linux_Process_Detect/training_set7/wer16_response.csv',\n",
       " './TempData/Linux_Process_Detect/training_set7/wer11_response.csv',\n",
       " './TempData/Linux_Process_Detect/training_set7/wer8_response.csv',\n",
       " './TempData/Linux_Process_Detect/training_set7/wer4_normal.csv',\n",
       " './TempData/Linux_Process_Detect/training_set7/wer25_normal.csv',\n",
       " './TempData/Linux_Process_Detect/training_set7/wer12_normal.csv',\n",
       " './TempData/Linux_Process_Detect/training_set7/wer9_normal.csv',\n",
       " './TempData/Linux_Process_Detect/training_set7/wer9_response.csv',\n",
       " './TempData/Linux_Process_Detect/training_set7/wer17_normal.csv',\n",
       " './TempData/Linux_Process_Detect/training_set7/wer20_normal.csv',\n",
       " './TempData/Linux_Process_Detect/training_set7/wer1_normal.csv',\n",
       " './TempData/Linux_Process_Detect/training_set9/wer18_response.csv',\n",
       " './TempData/Linux_Process_Detect/training_set9/wer23_normal.csv',\n",
       " './TempData/Linux_Process_Detect/training_set9/wer14_normal.csv',\n",
       " './TempData/Linux_Process_Detect/training_set9/wer2_normal.csv',\n",
       " './TempData/Linux_Process_Detect/training_set9/wer19_normal.csv',\n",
       " './TempData/Linux_Process_Detect/training_set9/wer19_response.csv',\n",
       " './TempData/Linux_Process_Detect/training_set9/wer7_normal.csv',\n",
       " './TempData/Linux_Process_Detect/training_set9/wer11_normal.csv',\n",
       " './TempData/Linux_Process_Detect/training_set9/wer26_normal.csv',\n",
       " './TempData/Linux_Process_Detect/training_set9/wer22_response.csv',\n",
       " './TempData/Linux_Process_Detect/training_set9/wer16_normal.csv',\n",
       " './TempData/Linux_Process_Detect/training_set9/wer25_response.csv',\n",
       " './TempData/Linux_Process_Detect/training_set9/wer21_normal.csv',\n",
       " './TempData/Linux_Process_Detect/training_set9/wer7_response.csv',\n",
       " './TempData/Linux_Process_Detect/training_set9/wer13_response.csv',\n",
       " './TempData/Linux_Process_Detect/training_set9/wer14_response.csv',\n",
       " './TempData/Linux_Process_Detect/training_set9/wer24_response.csv',\n",
       " './TempData/Linux_Process_Detect/training_set9/wer23_response.csv',\n",
       " './TempData/Linux_Process_Detect/training_set9/wer5_normal.csv',\n",
       " './TempData/Linux_Process_Detect/training_set9/wer15_response.csv',\n",
       " './TempData/Linux_Process_Detect/training_set9/wer12_response.csv',\n",
       " './TempData/Linux_Process_Detect/training_set9/wer24_normal.csv',\n",
       " './TempData/Linux_Process_Detect/training_set9/wer13_normal.csv',\n",
       " './TempData/Linux_Process_Detect/training_set9/wer8_normal.csv',\n",
       " './TempData/Linux_Process_Detect/training_set9/wer6_response.csv',\n",
       " './TempData/Linux_Process_Detect/training_set9/wer1_response.csv',\n",
       " './TempData/Linux_Process_Detect/training_set9/wer6_normal.csv',\n",
       " './TempData/Linux_Process_Detect/training_set9/wer21_response.csv',\n",
       " './TempData/Linux_Process_Detect/training_set9/wer26_response.csv',\n",
       " './TempData/Linux_Process_Detect/training_set9/wer10_response.csv',\n",
       " './TempData/Linux_Process_Detect/training_set9/wer17_response.csv',\n",
       " './TempData/Linux_Process_Detect/training_set9/wer3_response.csv',\n",
       " './TempData/Linux_Process_Detect/training_set9/wer4_response.csv',\n",
       " './TempData/Linux_Process_Detect/training_set9/wer10_normal.csv',\n",
       " './TempData/Linux_Process_Detect/training_set9/wer20_response.csv',\n",
       " './TempData/Linux_Process_Detect/training_set9/wer22_normal.csv',\n",
       " './TempData/Linux_Process_Detect/training_set9/wer15_normal.csv',\n",
       " './TempData/Linux_Process_Detect/training_set9/wer5_response.csv',\n",
       " './TempData/Linux_Process_Detect/training_set9/wer2_response.csv',\n",
       " './TempData/Linux_Process_Detect/training_set9/wer3_normal.csv',\n",
       " './TempData/Linux_Process_Detect/training_set9/wer18_normal.csv',\n",
       " './TempData/Linux_Process_Detect/training_set9/wer16_response.csv',\n",
       " './TempData/Linux_Process_Detect/training_set9/wer11_response.csv',\n",
       " './TempData/Linux_Process_Detect/training_set9/wer8_response.csv',\n",
       " './TempData/Linux_Process_Detect/training_set9/wer4_normal.csv',\n",
       " './TempData/Linux_Process_Detect/training_set9/wer25_normal.csv',\n",
       " './TempData/Linux_Process_Detect/training_set9/wer12_normal.csv',\n",
       " './TempData/Linux_Process_Detect/training_set9/wer9_normal.csv',\n",
       " './TempData/Linux_Process_Detect/training_set9/wer9_response.csv',\n",
       " './TempData/Linux_Process_Detect/training_set9/wer17_normal.csv',\n",
       " './TempData/Linux_Process_Detect/training_set9/wer20_normal.csv',\n",
       " './TempData/Linux_Process_Detect/training_set9/wer1_normal.csv',\n",
       " './TempData/Linux_Process_Detect/training_set12/wer18_response.csv',\n",
       " './TempData/Linux_Process_Detect/training_set12/wer23_normal.csv',\n",
       " './TempData/Linux_Process_Detect/training_set12/wer14_normal.csv',\n",
       " './TempData/Linux_Process_Detect/training_set12/wer29_response.csv',\n",
       " './TempData/Linux_Process_Detect/training_set12/Xwer27_response.csv',\n",
       " './TempData/Linux_Process_Detect/training_set12/wer2_normal.csv',\n",
       " './TempData/Linux_Process_Detect/training_set12/Xwer20_response.csv',\n",
       " './TempData/Linux_Process_Detect/training_set12/wer19_normal.csv',\n",
       " './TempData/Linux_Process_Detect/training_set12/wer19_response.csv',\n",
       " './TempData/Linux_Process_Detect/training_set12/wer7_normal.csv',\n",
       " './TempData/Linux_Process_Detect/training_set12/Xwer21_response.csv',\n",
       " './TempData/Linux_Process_Detect/training_set12/wer28_response.csv',\n",
       " './TempData/Linux_Process_Detect/training_set12/wer11_normal.csv',\n",
       " './TempData/Linux_Process_Detect/training_set12/wer26_normal.csv',\n",
       " './TempData/Linux_Process_Detect/training_set12/wer22_response.csv',\n",
       " './TempData/Linux_Process_Detect/training_set12/wer16_normal.csv',\n",
       " './TempData/Linux_Process_Detect/training_set12/wer21_normal.csv',\n",
       " './TempData/Linux_Process_Detect/training_set12/wer30_response.csv',\n",
       " './TempData/Linux_Process_Detect/training_set12/wer7_response.csv',\n",
       " './TempData/Linux_Process_Detect/training_set12/wer13_response.csv',\n",
       " './TempData/Linux_Process_Detect/training_set12/wer14_response.csv',\n",
       " './TempData/Linux_Process_Detect/training_set12/wer30_normal.csv',\n",
       " './TempData/Linux_Process_Detect/training_set12/wer29_normal.csv',\n",
       " './TempData/Linux_Process_Detect/training_set12/wer24_response.csv',\n",
       " './TempData/Linux_Process_Detect/training_set12/wer23_response.csv',\n",
       " './TempData/Linux_Process_Detect/training_set12/wer5_normal.csv',\n",
       " './TempData/Linux_Process_Detect/training_set12/wer15_response.csv',\n",
       " './TempData/Linux_Process_Detect/training_set12/wer12_response.csv',\n",
       " './TempData/Linux_Process_Detect/training_set12/wer24_normal.csv',\n",
       " './TempData/Linux_Process_Detect/training_set12/wer13_normal.csv',\n",
       " './TempData/Linux_Process_Detect/training_set12/wer8_normal.csv',\n",
       " './TempData/Linux_Process_Detect/training_set12/wer6_response.csv',\n",
       " './TempData/Linux_Process_Detect/training_set12/wer1_response.csv',\n",
       " './TempData/Linux_Process_Detect/training_set12/wer6_normal.csv',\n",
       " './TempData/Linux_Process_Detect/training_set12/wer26_response.csv',\n",
       " './TempData/Linux_Process_Detect/training_set12/wer10_response.csv',\n",
       " './TempData/Linux_Process_Detect/training_set12/wer17_response.csv',\n",
       " './TempData/Linux_Process_Detect/training_set12/wer3_response.csv',\n",
       " './TempData/Linux_Process_Detect/training_set12/wer4_response.csv',\n",
       " './TempData/Linux_Process_Detect/training_set12/wer10_normal.csv',\n",
       " './TempData/Linux_Process_Detect/training_set12/wer27_normal.csv',\n",
       " './TempData/Linux_Process_Detect/training_set12/wer22_normal.csv',\n",
       " './TempData/Linux_Process_Detect/training_set12/wer15_normal.csv',\n",
       " './TempData/Linux_Process_Detect/training_set12/wer5_response.csv',\n",
       " './TempData/Linux_Process_Detect/training_set12/wer2_response.csv',\n",
       " './TempData/Linux_Process_Detect/training_set12/wer3_normal.csv',\n",
       " './TempData/Linux_Process_Detect/training_set12/wer18_normal.csv',\n",
       " './TempData/Linux_Process_Detect/training_set12/wer16_response.csv',\n",
       " './TempData/Linux_Process_Detect/training_set12/wer11_response.csv',\n",
       " './TempData/Linux_Process_Detect/training_set12/wer28_normal.csv',\n",
       " './TempData/Linux_Process_Detect/training_set12/wer8_response.csv',\n",
       " './TempData/Linux_Process_Detect/training_set12/wer4_normal.csv',\n",
       " './TempData/Linux_Process_Detect/training_set12/wer25_normal.csv',\n",
       " './TempData/Linux_Process_Detect/training_set12/wer12_normal.csv',\n",
       " './TempData/Linux_Process_Detect/training_set12/wer9_normal.csv',\n",
       " './TempData/Linux_Process_Detect/training_set12/wer9_response.csv',\n",
       " './TempData/Linux_Process_Detect/training_set12/wer17_normal.csv',\n",
       " './TempData/Linux_Process_Detect/training_set12/wer20_normal.csv',\n",
       " './TempData/Linux_Process_Detect/training_set12/Xwer25_response.csv',\n",
       " './TempData/Linux_Process_Detect/training_set12/wer1_normal.csv',\n",
       " './TempData/Linux_Process_Detect/training_set13/wer18_response.csv',\n",
       " './TempData/Linux_Process_Detect/training_set13/wer23_normal.csv',\n",
       " './TempData/Linux_Process_Detect/training_set13/wer14_normal.csv',\n",
       " './TempData/Linux_Process_Detect/training_set13/wer29_response.csv',\n",
       " './TempData/Linux_Process_Detect/training_set13/wer2_normal.csv',\n",
       " './TempData/Linux_Process_Detect/training_set13/wer19_normal.csv',\n",
       " './TempData/Linux_Process_Detect/training_set13/Xwer10_response.csv',\n",
       " './TempData/Linux_Process_Detect/training_set13/wer19_response.csv',\n",
       " './TempData/Linux_Process_Detect/training_set13/wer7_normal.csv',\n",
       " './TempData/Linux_Process_Detect/training_set13/wer28_response.csv',\n",
       " './TempData/Linux_Process_Detect/training_set13/wer11_normal.csv',\n",
       " './TempData/Linux_Process_Detect/training_set13/wer26_normal.csv',\n",
       " './TempData/Linux_Process_Detect/training_set13/wer22_response.csv',\n",
       " './TempData/Linux_Process_Detect/training_set13/wer16_normal.csv',\n",
       " './TempData/Linux_Process_Detect/training_set13/wer25_response.csv',\n",
       " './TempData/Linux_Process_Detect/training_set13/wer21_normal.csv',\n",
       " './TempData/Linux_Process_Detect/training_set13/wer7_response.csv',\n",
       " './TempData/Linux_Process_Detect/training_set13/wer13_response.csv',\n",
       " './TempData/Linux_Process_Detect/training_set13/wer14_response.csv',\n",
       " './TempData/Linux_Process_Detect/training_set13/wer29_normal.csv',\n",
       " './TempData/Linux_Process_Detect/training_set13/wer24_response.csv',\n",
       " './TempData/Linux_Process_Detect/training_set13/wer23_response.csv',\n",
       " './TempData/Linux_Process_Detect/training_set13/wer5_normal.csv',\n",
       " './TempData/Linux_Process_Detect/training_set13/wer15_response.csv',\n",
       " './TempData/Linux_Process_Detect/training_set13/wer12_response.csv',\n",
       " './TempData/Linux_Process_Detect/training_set13/wer24_normal.csv',\n",
       " './TempData/Linux_Process_Detect/training_set13/wer13_normal.csv',\n",
       " './TempData/Linux_Process_Detect/training_set13/wer8_normal.csv',\n",
       " './TempData/Linux_Process_Detect/training_set13/wer6_response.csv',\n",
       " './TempData/Linux_Process_Detect/training_set13/wer1_response.csv',\n",
       " './TempData/Linux_Process_Detect/training_set13/wer6_normal.csv',\n",
       " './TempData/Linux_Process_Detect/training_set13/wer21_response.csv',\n",
       " './TempData/Linux_Process_Detect/training_set13/wer26_response.csv',\n",
       " './TempData/Linux_Process_Detect/training_set13/wer17_response.csv',\n",
       " './TempData/Linux_Process_Detect/training_set13/wer3_response.csv',\n",
       " './TempData/Linux_Process_Detect/training_set13/wer4_response.csv',\n",
       " './TempData/Linux_Process_Detect/training_set13/wer10_normal.csv',\n",
       " './TempData/Linux_Process_Detect/training_set13/wer27_normal.csv',\n",
       " './TempData/Linux_Process_Detect/training_set13/wer27_response.csv',\n",
       " './TempData/Linux_Process_Detect/training_set13/wer20_response.csv',\n",
       " './TempData/Linux_Process_Detect/training_set13/wer22_normal.csv',\n",
       " './TempData/Linux_Process_Detect/training_set13/wer15_normal.csv',\n",
       " './TempData/Linux_Process_Detect/training_set13/wer5_response.csv',\n",
       " './TempData/Linux_Process_Detect/training_set13/wer2_response.csv',\n",
       " './TempData/Linux_Process_Detect/training_set13/wer3_normal.csv',\n",
       " './TempData/Linux_Process_Detect/training_set13/wer18_normal.csv',\n",
       " './TempData/Linux_Process_Detect/training_set13/wer16_response.csv',\n",
       " './TempData/Linux_Process_Detect/training_set13/wer11_response.csv',\n",
       " './TempData/Linux_Process_Detect/training_set13/wer28_normal.csv',\n",
       " './TempData/Linux_Process_Detect/training_set13/wer8_response.csv',\n",
       " './TempData/Linux_Process_Detect/training_set13/wer4_normal.csv',\n",
       " './TempData/Linux_Process_Detect/training_set13/wer25_normal.csv',\n",
       " './TempData/Linux_Process_Detect/training_set13/wer12_normal.csv',\n",
       " './TempData/Linux_Process_Detect/training_set13/wer9_normal.csv',\n",
       " './TempData/Linux_Process_Detect/training_set13/wer9_response.csv',\n",
       " './TempData/Linux_Process_Detect/training_set13/wer17_normal.csv',\n",
       " './TempData/Linux_Process_Detect/training_set13/wer20_normal.csv',\n",
       " './TempData/Linux_Process_Detect/training_set13/wer1_normal.csv',\n",
       " './TempData/Linux_Process_Detect/training_set14/wer18_response.csv',\n",
       " './TempData/Linux_Process_Detect/training_set14/wer23_normal.csv',\n",
       " './TempData/Linux_Process_Detect/training_set14/wer14_normal.csv',\n",
       " './TempData/Linux_Process_Detect/training_set14/wer2_normal.csv',\n",
       " './TempData/Linux_Process_Detect/training_set14/wer19_normal.csv',\n",
       " './TempData/Linux_Process_Detect/training_set14/wer19_response.csv',\n",
       " './TempData/Linux_Process_Detect/training_set14/wer7_normal.csv',\n",
       " './TempData/Linux_Process_Detect/training_set14/wer11_normal.csv',\n",
       " './TempData/Linux_Process_Detect/training_set14/wer26_normal.csv',\n",
       " './TempData/Linux_Process_Detect/training_set14/wer22_response.csv',\n",
       " './TempData/Linux_Process_Detect/training_set14/wer16_normal.csv',\n",
       " './TempData/Linux_Process_Detect/training_set14/wer25_response.csv',\n",
       " './TempData/Linux_Process_Detect/training_set14/wer21_normal.csv',\n",
       " './TempData/Linux_Process_Detect/training_set14/wer7_response.csv',\n",
       " './TempData/Linux_Process_Detect/training_set14/wer13_response.csv',\n",
       " './TempData/Linux_Process_Detect/training_set14/wer14_response.csv',\n",
       " './TempData/Linux_Process_Detect/training_set14/wer24_response.csv',\n",
       " './TempData/Linux_Process_Detect/training_set14/wer23_response.csv',\n",
       " './TempData/Linux_Process_Detect/training_set14/wer5_normal.csv',\n",
       " './TempData/Linux_Process_Detect/training_set14/wer15_response.csv',\n",
       " './TempData/Linux_Process_Detect/training_set14/wer12_response.csv',\n",
       " './TempData/Linux_Process_Detect/training_set14/wer24_normal.csv',\n",
       " './TempData/Linux_Process_Detect/training_set14/wer13_normal.csv',\n",
       " './TempData/Linux_Process_Detect/training_set14/wer8_normal.csv',\n",
       " './TempData/Linux_Process_Detect/training_set14/wer6_response.csv',\n",
       " './TempData/Linux_Process_Detect/training_set14/wer1_response.csv',\n",
       " './TempData/Linux_Process_Detect/training_set14/wer6_normal.csv',\n",
       " './TempData/Linux_Process_Detect/training_set14/wer21_response.csv',\n",
       " './TempData/Linux_Process_Detect/training_set14/wer26_response.csv',\n",
       " './TempData/Linux_Process_Detect/training_set14/wer10_response.csv',\n",
       " './TempData/Linux_Process_Detect/training_set14/wer17_response.csv',\n",
       " './TempData/Linux_Process_Detect/training_set14/wer3_response.csv',\n",
       " './TempData/Linux_Process_Detect/training_set14/wer4_response.csv',\n",
       " './TempData/Linux_Process_Detect/training_set14/wer10_normal.csv',\n",
       " './TempData/Linux_Process_Detect/training_set14/wer20_response.csv',\n",
       " './TempData/Linux_Process_Detect/training_set14/wer22_normal.csv',\n",
       " './TempData/Linux_Process_Detect/training_set14/wer15_normal.csv',\n",
       " './TempData/Linux_Process_Detect/training_set14/wer5_response.csv',\n",
       " './TempData/Linux_Process_Detect/training_set14/wer2_response.csv',\n",
       " './TempData/Linux_Process_Detect/training_set14/wer3_normal.csv',\n",
       " './TempData/Linux_Process_Detect/training_set14/wer18_normal.csv',\n",
       " './TempData/Linux_Process_Detect/training_set14/wer16_response.csv',\n",
       " './TempData/Linux_Process_Detect/training_set14/wer11_response.csv',\n",
       " './TempData/Linux_Process_Detect/training_set14/wer8_response.csv',\n",
       " './TempData/Linux_Process_Detect/training_set14/wer4_normal.csv',\n",
       " './TempData/Linux_Process_Detect/training_set14/wer25_normal.csv',\n",
       " './TempData/Linux_Process_Detect/training_set14/wer12_normal.csv',\n",
       " './TempData/Linux_Process_Detect/training_set14/wer9_normal.csv',\n",
       " './TempData/Linux_Process_Detect/training_set14/wer9_response.csv',\n",
       " './TempData/Linux_Process_Detect/training_set14/wer17_normal.csv',\n",
       " './TempData/Linux_Process_Detect/training_set14/wer20_normal.csv',\n",
       " './TempData/Linux_Process_Detect/training_set14/wer1_normal.csv',\n",
       " './TempData/Linux_Process_Detect/training_set2/wer18_response.csv',\n",
       " './TempData/Linux_Process_Detect/training_set2/wer23_normal.csv',\n",
       " './TempData/Linux_Process_Detect/training_set2/wer14_normal.csv',\n",
       " './TempData/Linux_Process_Detect/training_set2/wer2_normal.csv',\n",
       " './TempData/Linux_Process_Detect/training_set2/wer19_normal.csv',\n",
       " './TempData/Linux_Process_Detect/training_set2/wer19_response.csv',\n",
       " './TempData/Linux_Process_Detect/training_set2/wer7_normal.csv',\n",
       " './TempData/Linux_Process_Detect/training_set2/wer11_normal.csv',\n",
       " './TempData/Linux_Process_Detect/training_set2/wer26_normal.csv',\n",
       " './TempData/Linux_Process_Detect/training_set2/wer22_response.csv',\n",
       " './TempData/Linux_Process_Detect/training_set2/wer16_normal.csv',\n",
       " './TempData/Linux_Process_Detect/training_set2/wer25_response.csv',\n",
       " './TempData/Linux_Process_Detect/training_set2/wer21_normal.csv',\n",
       " './TempData/Linux_Process_Detect/training_set2/wer7_response.csv',\n",
       " './TempData/Linux_Process_Detect/training_set2/wer13_response.csv',\n",
       " './TempData/Linux_Process_Detect/training_set2/wer14_response.csv',\n",
       " './TempData/Linux_Process_Detect/training_set2/wer24_response.csv',\n",
       " './TempData/Linux_Process_Detect/training_set2/wer23_response.csv',\n",
       " './TempData/Linux_Process_Detect/training_set2/wer5_normal.csv',\n",
       " './TempData/Linux_Process_Detect/training_set2/wer15_response.csv',\n",
       " './TempData/Linux_Process_Detect/training_set2/wer12_response.csv',\n",
       " './TempData/Linux_Process_Detect/training_set2/wer24_normal.csv',\n",
       " './TempData/Linux_Process_Detect/training_set2/wer13_normal.csv',\n",
       " './TempData/Linux_Process_Detect/training_set2/wer8_normal.csv',\n",
       " './TempData/Linux_Process_Detect/training_set2/wer6_response.csv',\n",
       " './TempData/Linux_Process_Detect/training_set2/wer1_response.csv',\n",
       " './TempData/Linux_Process_Detect/training_set2/wer6_normal.csv',\n",
       " './TempData/Linux_Process_Detect/training_set2/wer21_response.csv',\n",
       " './TempData/Linux_Process_Detect/training_set2/wer26_response.csv',\n",
       " './TempData/Linux_Process_Detect/training_set2/wer10_response.csv',\n",
       " './TempData/Linux_Process_Detect/training_set2/wer17_response.csv',\n",
       " './TempData/Linux_Process_Detect/training_set2/wer3_response.csv',\n",
       " './TempData/Linux_Process_Detect/training_set2/wer4_response.csv',\n",
       " './TempData/Linux_Process_Detect/training_set2/wer10_normal.csv',\n",
       " './TempData/Linux_Process_Detect/training_set2/wer20_response.csv',\n",
       " './TempData/Linux_Process_Detect/training_set2/wer22_normal.csv',\n",
       " './TempData/Linux_Process_Detect/training_set2/wer15_normal.csv',\n",
       " './TempData/Linux_Process_Detect/training_set2/wer5_response.csv',\n",
       " './TempData/Linux_Process_Detect/training_set2/wer2_response.csv',\n",
       " './TempData/Linux_Process_Detect/training_set2/wer3_normal.csv',\n",
       " './TempData/Linux_Process_Detect/training_set2/wer18_normal.csv',\n",
       " './TempData/Linux_Process_Detect/training_set2/wer16_response.csv',\n",
       " './TempData/Linux_Process_Detect/training_set2/wer11_response.csv',\n",
       " './TempData/Linux_Process_Detect/training_set2/wer8_response.csv',\n",
       " './TempData/Linux_Process_Detect/training_set2/wer4_normal.csv',\n",
       " './TempData/Linux_Process_Detect/training_set2/wer25_normal.csv',\n",
       " './TempData/Linux_Process_Detect/training_set2/wer12_normal.csv',\n",
       " './TempData/Linux_Process_Detect/training_set2/wer9_normal.csv',\n",
       " './TempData/Linux_Process_Detect/training_set2/wer9_response.csv',\n",
       " './TempData/Linux_Process_Detect/training_set2/wer17_normal.csv',\n",
       " './TempData/Linux_Process_Detect/training_set2/wer20_normal.csv',\n",
       " './TempData/Linux_Process_Detect/training_set2/wer1_normal.csv',\n",
       " './TempData/Linux_Process_Detect/training_set5/wer18_response.csv',\n",
       " './TempData/Linux_Process_Detect/training_set5/wer23_normal.csv',\n",
       " './TempData/Linux_Process_Detect/training_set5/wer14_normal.csv',\n",
       " './TempData/Linux_Process_Detect/training_set5/wer2_normal.csv',\n",
       " './TempData/Linux_Process_Detect/training_set5/wer19_normal.csv',\n",
       " './TempData/Linux_Process_Detect/training_set5/wer19_response.csv',\n",
       " './TempData/Linux_Process_Detect/training_set5/wer7_normal.csv',\n",
       " './TempData/Linux_Process_Detect/training_set5/wer11_normal.csv',\n",
       " './TempData/Linux_Process_Detect/training_set5/wer26_normal.csv',\n",
       " './TempData/Linux_Process_Detect/training_set5/wer22_response.csv',\n",
       " './TempData/Linux_Process_Detect/training_set5/wer16_normal.csv',\n",
       " './TempData/Linux_Process_Detect/training_set5/wer25_response.csv',\n",
       " './TempData/Linux_Process_Detect/training_set5/wer21_normal.csv',\n",
       " './TempData/Linux_Process_Detect/training_set5/wer7_response.csv',\n",
       " './TempData/Linux_Process_Detect/training_set5/wer13_response.csv',\n",
       " './TempData/Linux_Process_Detect/training_set5/wer14_response.csv',\n",
       " './TempData/Linux_Process_Detect/training_set5/wer24_response.csv',\n",
       " './TempData/Linux_Process_Detect/training_set5/wer23_response.csv',\n",
       " './TempData/Linux_Process_Detect/training_set5/wer5_normal.csv',\n",
       " './TempData/Linux_Process_Detect/training_set5/wer15_response.csv',\n",
       " './TempData/Linux_Process_Detect/training_set5/wer12_response.csv',\n",
       " './TempData/Linux_Process_Detect/training_set5/wer24_normal.csv',\n",
       " './TempData/Linux_Process_Detect/training_set5/wer13_normal.csv',\n",
       " './TempData/Linux_Process_Detect/training_set5/wer8_normal.csv',\n",
       " './TempData/Linux_Process_Detect/training_set5/wer6_response.csv',\n",
       " './TempData/Linux_Process_Detect/training_set5/wer1_response.csv',\n",
       " './TempData/Linux_Process_Detect/training_set5/wer6_normal.csv',\n",
       " './TempData/Linux_Process_Detect/training_set5/wer21_response.csv',\n",
       " './TempData/Linux_Process_Detect/training_set5/wer26_response.csv',\n",
       " './TempData/Linux_Process_Detect/training_set5/wer10_response.csv',\n",
       " './TempData/Linux_Process_Detect/training_set5/wer17_response.csv',\n",
       " './TempData/Linux_Process_Detect/training_set5/wer3_response.csv',\n",
       " './TempData/Linux_Process_Detect/training_set5/wer4_response.csv',\n",
       " './TempData/Linux_Process_Detect/training_set5/wer10_normal.csv',\n",
       " './TempData/Linux_Process_Detect/training_set5/wer20_response.csv',\n",
       " './TempData/Linux_Process_Detect/training_set5/wer22_normal.csv',\n",
       " './TempData/Linux_Process_Detect/training_set5/wer15_normal.csv',\n",
       " './TempData/Linux_Process_Detect/training_set5/wer5_response.csv',\n",
       " './TempData/Linux_Process_Detect/training_set5/wer2_response.csv',\n",
       " './TempData/Linux_Process_Detect/training_set5/wer3_normal.csv',\n",
       " './TempData/Linux_Process_Detect/training_set5/wer18_normal.csv',\n",
       " './TempData/Linux_Process_Detect/training_set5/wer16_response.csv',\n",
       " './TempData/Linux_Process_Detect/training_set5/wer11_response.csv',\n",
       " './TempData/Linux_Process_Detect/training_set5/wer8_response.csv',\n",
       " './TempData/Linux_Process_Detect/training_set5/wer4_normal.csv',\n",
       " './TempData/Linux_Process_Detect/training_set5/wer25_normal.csv',\n",
       " './TempData/Linux_Process_Detect/training_set5/wer12_normal.csv',\n",
       " './TempData/Linux_Process_Detect/training_set5/wer9_normal.csv',\n",
       " './TempData/Linux_Process_Detect/training_set5/wer9_response.csv',\n",
       " './TempData/Linux_Process_Detect/training_set5/wer17_normal.csv',\n",
       " './TempData/Linux_Process_Detect/training_set5/wer20_normal.csv',\n",
       " './TempData/Linux_Process_Detect/training_set5/wer1_normal.csv',\n",
       " './TempData/Linux_Process_Detect/training_set4/Xwer16_response.csv',\n",
       " './TempData/Linux_Process_Detect/training_set4/wer18_response.csv',\n",
       " './TempData/Linux_Process_Detect/training_set4/wer23_normal.csv',\n",
       " './TempData/Linux_Process_Detect/training_set4/wer14_normal.csv',\n",
       " './TempData/Linux_Process_Detect/training_set4/wer2_normal.csv',\n",
       " './TempData/Linux_Process_Detect/training_set4/wer32_normal.csv',\n",
       " './TempData/Linux_Process_Detect/training_set4/Xwer35_response.csv',\n",
       " './TempData/Linux_Process_Detect/training_set4/wer19_normal.csv',\n",
       " './TempData/Linux_Process_Detect/training_set4/wer37_normal.csv',\n",
       " './TempData/Linux_Process_Detect/training_set4/wer19_response.csv',\n",
       " './TempData/Linux_Process_Detect/training_set4/wer7_normal.csv',\n",
       " './TempData/Linux_Process_Detect/training_set4/Xwer21_response.csv',\n",
       " './TempData/Linux_Process_Detect/training_set4/Xwer26_response.csv',\n",
       " './TempData/Linux_Process_Detect/training_set4/wer28_response.csv',\n",
       " './TempData/Linux_Process_Detect/training_set4/wer11_normal.csv',\n",
       " './TempData/Linux_Process_Detect/training_set4/wer26_normal.csv',\n",
       " './TempData/Linux_Process_Detect/training_set4/wer22_response.csv',\n",
       " './TempData/Linux_Process_Detect/training_set4/wer16_normal.csv',\n",
       " './TempData/Linux_Process_Detect/training_set4/wer25_response.csv',\n",
       " './TempData/Linux_Process_Detect/training_set4/wer21_normal.csv',\n",
       " './TempData/Linux_Process_Detect/training_set4/wer7_response.csv',\n",
       " './TempData/Linux_Process_Detect/training_set4/wer13_response.csv',\n",
       " './TempData/Linux_Process_Detect/training_set4/wer14_response.csv',\n",
       " './TempData/Linux_Process_Detect/training_set4/wer30_normal.csv',\n",
       " './TempData/Linux_Process_Detect/training_set4/wer29_normal.csv',\n",
       " './TempData/Linux_Process_Detect/training_set4/wer35_normal.csv',\n",
       " './TempData/Linux_Process_Detect/training_set4/wer24_response.csv',\n",
       " './TempData/Linux_Process_Detect/training_set4/wer5_normal.csv',\n",
       " './TempData/Linux_Process_Detect/training_set4/wer15_response.csv',\n",
       " './TempData/Linux_Process_Detect/training_set4/wer12_response.csv',\n",
       " './TempData/Linux_Process_Detect/training_set4/wer24_normal.csv',\n",
       " './TempData/Linux_Process_Detect/training_set4/wer13_normal.csv',\n",
       " './TempData/Linux_Process_Detect/training_set4/wer8_normal.csv',\n",
       " './TempData/Linux_Process_Detect/training_set4/wer6_response.csv',\n",
       " './TempData/Linux_Process_Detect/training_set4/wer38_normal.csv',\n",
       " './TempData/Linux_Process_Detect/training_set4/wer1_response.csv',\n",
       " './TempData/Linux_Process_Detect/training_set4/wer6_normal.csv',\n",
       " './TempData/Linux_Process_Detect/training_set4/wer36_normal.csv',\n",
       " './TempData/Linux_Process_Detect/training_set4/wer33_response.csv',\n",
       " './TempData/Linux_Process_Detect/training_set4/wer34_response.csv',\n",
       " './TempData/Linux_Process_Detect/training_set4/wer10_response.csv',\n",
       " './TempData/Linux_Process_Detect/training_set4/wer17_response.csv',\n",
       " './TempData/Linux_Process_Detect/training_set4/wer3_response.csv',\n",
       " './TempData/Linux_Process_Detect/training_set4/wer4_response.csv',\n",
       " './TempData/Linux_Process_Detect/training_set4/wer10_normal.csv',\n",
       " './TempData/Linux_Process_Detect/training_set4/wer27_normal.csv',\n",
       " './TempData/Linux_Process_Detect/training_set4/wer27_response.csv',\n",
       " './TempData/Linux_Process_Detect/training_set4/Xwer29_response.csv',\n",
       " './TempData/Linux_Process_Detect/training_set4/wer20_response.csv',\n",
       " './TempData/Linux_Process_Detect/training_set4/wer22_normal.csv',\n",
       " './TempData/Linux_Process_Detect/training_set4/wer32_response.csv',\n",
       " './TempData/Linux_Process_Detect/training_set4/wer15_normal.csv',\n",
       " './TempData/Linux_Process_Detect/training_set4/wer33_normal.csv',\n",
       " './TempData/Linux_Process_Detect/training_set4/wer5_response.csv',\n",
       " './TempData/Linux_Process_Detect/training_set4/wer2_response.csv',\n",
       " './TempData/Linux_Process_Detect/training_set4/wer3_normal.csv',\n",
       " './TempData/Linux_Process_Detect/training_set4/wer18_normal.csv',\n",
       " './TempData/Linux_Process_Detect/training_set4/wer11_response.csv',\n",
       " './TempData/Linux_Process_Detect/training_set4/wer28_normal.csv',\n",
       " './TempData/Linux_Process_Detect/training_set4/wer8_response.csv',\n",
       " './TempData/Linux_Process_Detect/training_set4/wer4_normal.csv',\n",
       " './TempData/Linux_Process_Detect/training_set4/wer34_normal.csv',\n",
       " './TempData/Linux_Process_Detect/training_set4/wer25_normal.csv',\n",
       " './TempData/Linux_Process_Detect/training_set4/wer12_normal.csv',\n",
       " './TempData/Linux_Process_Detect/training_set4/Xwer36_response.csv',\n",
       " './TempData/Linux_Process_Detect/training_set4/wer38_response.csv',\n",
       " './TempData/Linux_Process_Detect/training_set4/Xwer31_response.csv',\n",
       " './TempData/Linux_Process_Detect/training_set4/wer39_normal.csv',\n",
       " './TempData/Linux_Process_Detect/training_set4/Xwer23_response.csv',\n",
       " './TempData/Linux_Process_Detect/training_set4/wer9_normal.csv',\n",
       " './TempData/Linux_Process_Detect/training_set4/wer9_response.csv',\n",
       " './TempData/Linux_Process_Detect/training_set4/wer17_normal.csv',\n",
       " './TempData/Linux_Process_Detect/training_set4/wer20_normal.csv',\n",
       " './TempData/Linux_Process_Detect/training_set4/wer31_normal.csv',\n",
       " './TempData/Linux_Process_Detect/training_set4/Xwer30_response.csv',\n",
       " './TempData/Linux_Process_Detect/training_set4/wer1_normal.csv',\n",
       " './TempData/Linux_Process_Detect/training_set4/wer39_response.csv',\n",
       " './TempData/Linux_Process_Detect/training_set4/Xwer37_response.csv',\n",
       " './TempData/Linux_Process_Detect/training_set3/wer18_response.csv',\n",
       " './TempData/Linux_Process_Detect/training_set3/wer14_normal.csv',\n",
       " './TempData/Linux_Process_Detect/training_set3/wer2_normal.csv',\n",
       " './TempData/Linux_Process_Detect/training_set3/wer19_normal.csv',\n",
       " './TempData/Linux_Process_Detect/training_set3/wer19_response.csv',\n",
       " './TempData/Linux_Process_Detect/training_set3/wer7_normal.csv',\n",
       " './TempData/Linux_Process_Detect/training_set3/wer11_normal.csv',\n",
       " './TempData/Linux_Process_Detect/training_set3/wer16_normal.csv',\n",
       " './TempData/Linux_Process_Detect/training_set3/wer7_response.csv',\n",
       " './TempData/Linux_Process_Detect/training_set3/wer13_response.csv',\n",
       " './TempData/Linux_Process_Detect/training_set3/wer14_response.csv',\n",
       " './TempData/Linux_Process_Detect/training_set3/wer5_normal.csv',\n",
       " './TempData/Linux_Process_Detect/training_set3/wer15_response.csv',\n",
       " './TempData/Linux_Process_Detect/training_set3/wer12_response.csv',\n",
       " './TempData/Linux_Process_Detect/training_set3/wer13_normal.csv',\n",
       " './TempData/Linux_Process_Detect/training_set3/wer8_normal.csv',\n",
       " './TempData/Linux_Process_Detect/training_set3/wer6_response.csv',\n",
       " './TempData/Linux_Process_Detect/training_set3/wer1_response.csv',\n",
       " './TempData/Linux_Process_Detect/training_set3/wer6_normal.csv',\n",
       " './TempData/Linux_Process_Detect/training_set3/wer10_response.csv',\n",
       " './TempData/Linux_Process_Detect/training_set3/wer17_response.csv',\n",
       " './TempData/Linux_Process_Detect/training_set3/wer3_response.csv',\n",
       " './TempData/Linux_Process_Detect/training_set3/wer4_response.csv',\n",
       " './TempData/Linux_Process_Detect/training_set3/wer10_normal.csv',\n",
       " './TempData/Linux_Process_Detect/training_set3/wer20_response.csv',\n",
       " './TempData/Linux_Process_Detect/training_set3/wer15_normal.csv',\n",
       " './TempData/Linux_Process_Detect/training_set3/wer5_response.csv',\n",
       " './TempData/Linux_Process_Detect/training_set3/wer2_response.csv',\n",
       " './TempData/Linux_Process_Detect/training_set3/wer3_normal.csv',\n",
       " './TempData/Linux_Process_Detect/training_set3/wer18_normal.csv',\n",
       " './TempData/Linux_Process_Detect/training_set3/wer16_response.csv',\n",
       " './TempData/Linux_Process_Detect/training_set3/wer11_response.csv',\n",
       " './TempData/Linux_Process_Detect/training_set3/wer8_response.csv',\n",
       " './TempData/Linux_Process_Detect/training_set3/wer4_normal.csv',\n",
       " './TempData/Linux_Process_Detect/training_set3/wer12_normal.csv',\n",
       " './TempData/Linux_Process_Detect/training_set3/wer9_normal.csv',\n",
       " './TempData/Linux_Process_Detect/training_set3/wer9_response.csv',\n",
       " './TempData/Linux_Process_Detect/training_set3/wer17_normal.csv',\n",
       " './TempData/Linux_Process_Detect/training_set3/wer20_normal.csv',\n",
       " './TempData/Linux_Process_Detect/training_set3/wer1_normal.csv']"
      ]
     },
     "execution_count": 81,
     "metadata": {},
     "output_type": "execute_result"
    }
   ],
   "source": [
    "names"
   ]
  },
  {
   "cell_type": "code",
   "execution_count": 82,
   "metadata": {
    "collapsed": true
   },
   "outputs": [],
   "source": [
    "dataset = pd.DataFrame()"
   ]
  },
  {
   "cell_type": "code",
   "execution_count": 83,
   "metadata": {},
   "outputs": [],
   "source": [
    "dataset = pd.DataFrame()\n",
    "content = []\n",
    "for name in names:\n",
    "    temp = pd.read_csv(name, index_col=False, header=None)\n",
    "    content.append(temp)\n",
    "dataset = pd.concat(content, ignore_index=True)"
   ]
  },
  {
   "cell_type": "code",
   "execution_count": 84,
   "metadata": {},
   "outputs": [
    {
     "data": {
      "text/plain": [
       "(742, 40185)"
      ]
     },
     "execution_count": 84,
     "metadata": {},
     "output_type": "execute_result"
    }
   ],
   "source": [
    "# dataset = pd.concat(content, ignore_index=True)\n",
    "dataset.shape"
   ]
  },
  {
   "cell_type": "code",
   "execution_count": 85,
   "metadata": {
    "collapsed": true
   },
   "outputs": [],
   "source": [
    "dataset.to_csv('./TempData/Linux_Process_Detect/training_set_all.csv', header=False, index=False)"
   ]
  },
  {
   "cell_type": "code",
   "execution_count": 89,
   "metadata": {},
   "outputs": [
    {
     "name": "stdout",
     "output_type": "stream",
     "text": [
      "cost:25.5918\n"
     ]
    }
   ],
   "source": [
    "s=time.time()\n",
    "dataset = pd.read_csv('./TempData/Linux_Process_Detect/training_set_all.csv', index_col=False, header=None)\n",
    "print(\"cost:%.4f\"%(time.time()-s))"
   ]
  },
  {
   "cell_type": "code",
   "execution_count": 91,
   "metadata": {},
   "outputs": [],
   "source": [
    "q=dataset.values"
   ]
  },
  {
   "cell_type": "code",
   "execution_count": 107,
   "metadata": {},
   "outputs": [],
   "source": [
    "np.random.shuffle(q)"
   ]
  },
  {
   "cell_type": "code",
   "execution_count": 108,
   "metadata": {},
   "outputs": [
    {
     "name": "stdout",
     "output_type": "stream",
     "text": [
      "cost:1.1594\n"
     ]
    }
   ],
   "source": [
    "s=time.time()\n",
    "pickle.dump(q, open('./TempData/Linux_Process_Detect/training_set_all.pkl','wb+'))\n",
    "print(\"cost:%.4f\"%(time.time()-s))"
   ]
  },
  {
   "cell_type": "code",
   "execution_count": 99,
   "metadata": {},
   "outputs": [
    {
     "name": "stdout",
     "output_type": "stream",
     "text": [
      "cost:0.4119\n"
     ]
    }
   ],
   "source": [
    "s=time.time()\n",
    "q = pickle.load(open('./TempData/Linux_Process_Detect/training_set_all.pkl','rb+'))\n",
    "print(\"cost:%.4f\"%(time.time()-s))"
   ]
  },
  {
   "cell_type": "code",
   "execution_count": 113,
   "metadata": {},
   "outputs": [
    {
     "data": {
      "text/plain": [
       "3"
      ]
     },
     "execution_count": 113,
     "metadata": {},
     "output_type": "execute_result"
    }
   ],
   "source": [
    "len(set(q[:,0]))"
   ]
  },
  {
   "cell_type": "code",
   "execution_count": 116,
   "metadata": {},
   "outputs": [
    {
     "name": "stdout",
     "output_type": "stream",
     "text": [
      "==> Load data successfully, time elapsed: 0.0001\n"
     ]
    }
   ],
   "source": [
    "# def load_data(opt, root='./Datasets/training_set_all.pkl'):\n",
    "start = time.time()\n",
    "all_data = q\n",
    "print(\"==> Load data successfully, time elapsed: %.4f\" % (time.time() - start))\n",
    "length = len(all_data)\n",
    "# opt.NUM_CLASSES = len(set(all_data[:, 0]))\n",
    "all_pairs = [(i[1:], i[1]) for i in all_data]\n",
    "sep_point = int(np.floor(0.7*length))\n",
    "train_pairs = all_pairs[:sep_point]\n",
    "test_pairs = all_pairs[sep_point:]\n",
    "# return train_pairs, test_pairs"
   ]
  },
  {
   "cell_type": "code",
   "execution_count": 121,
   "metadata": {},
   "outputs": [
    {
     "data": {
      "text/plain": [
       "5023.0"
      ]
     },
     "execution_count": 121,
     "metadata": {},
     "output_type": "execute_result"
    }
   ],
   "source": [
    "40184*512/8**4"
   ]
  },
  {
   "cell_type": "code",
   "execution_count": 119,
   "metadata": {},
   "outputs": [
    {
     "name": "stdout",
     "output_type": "stream",
     "text": [
      "17 = 17\n"
     ]
    }
   ],
   "source": [
    "def divPrime(num):\n",
    "    lt = []\n",
    "    print(num, '=', end=' ')\n",
    "    while num != 1:\n",
    "        for i in range(2, int(num+1)):\n",
    "            if num % i == 0:  # i是num的一个质因数\n",
    "                lt.append(i)\n",
    "                num = num / i # 将num除以i，剩下的部分继续分解\n",
    "                break\n",
    "    for i in range(0, len(lt)-1):\n",
    "        print(lt[i], '*', end=' ')\n",
    " \n",
    "    print(lt[-1])"
   ]
  },
  {
   "cell_type": "code",
   "execution_count": 155,
   "metadata": {},
   "outputs": [
    {
     "name": "stdout",
     "output_type": "stream",
     "text": [
      "40960 = 2 * 2 * 2 * 2 * 2 * 2 * 2 * 2 * 2 * 2 * 2 * 2 * 2 * 5\n",
      "40960 = 2 * 2 * 2 * 2 * 2 * 2 * 2 * 2 * 2 * 2 * 2 * 2 * 2 * 5\n"
     ]
    }
   ],
   "source": [
    "divPrime(40184+8+256+512)\n",
    "divPrime(40960)"
   ]
  },
  {
   "cell_type": "code",
   "execution_count": 126,
   "metadata": {},
   "outputs": [
    {
     "data": {
      "text/plain": [
       "776"
      ]
     },
     "execution_count": 126,
     "metadata": {},
     "output_type": "execute_result"
    }
   ],
   "source": [
    "8+256+512"
   ]
  },
  {
   "cell_type": "code",
   "execution_count": 128,
   "metadata": {},
   "outputs": [],
   "source": [
    "w=np.array([[1,2,3],[4,5,6]])"
   ]
  },
  {
   "cell_type": "code",
   "execution_count": 135,
   "metadata": {},
   "outputs": [
    {
     "data": {
      "text/plain": [
       "array([ 1.,  2.,  3.,  0.,  0.,  0.])"
      ]
     },
     "execution_count": 135,
     "metadata": {},
     "output_type": "execute_result"
    }
   ],
   "source": [
    "np.append(np.array([1,2,3]),np.zeros(3))"
   ]
  },
  {
   "cell_type": "code",
   "execution_count": 149,
   "metadata": {},
   "outputs": [],
   "source": [
    "w=np.concatenate((q,np.zeros((len(q),776))),axis=1)"
   ]
  },
  {
   "cell_type": "code",
   "execution_count": 157,
   "metadata": {},
   "outputs": [
    {
     "name": "stdout",
     "output_type": "stream",
     "text": [
      "cost:0.6352\n"
     ]
    }
   ],
   "source": [
    "s=time.time()\n",
    "pickle.dump(w, open('./Datasets/ts_all_padded.pkl','wb+'))\n",
    "print(\"cost:%.4f\"%(time.time()-s))"
   ]
  },
  {
   "cell_type": "markdown",
   "metadata": {},
   "source": [
    "(length + 2*pad - size)/stride + 1 \n",
    "N = (W − F + 2P )/S+1\n",
    "N = (W-16+8)/8+1=W/8-1\n",
    "W = (N-1)*S + F -2P\n",
    "W = (N-1)*8 + 16 = 8N+8"
   ]
  },
  {
   "cell_type": "code",
   "execution_count": 174,
   "metadata": {},
   "outputs": [
    {
     "data": {
      "text/plain": [
       "10.0"
      ]
     },
     "execution_count": 174,
     "metadata": {},
     "output_type": "execute_result"
    }
   ],
   "source": [
    "40960 / 8**4"
   ]
  },
  {
   "cell_type": "code",
   "execution_count": 173,
   "metadata": {},
   "outputs": [
    {
     "name": "stdout",
     "output_type": "stream",
     "text": [
      "766\n",
      "95\n",
      "11\n"
     ]
    }
   ],
   "source": [
    "num = 0\n",
    "div = 40960\n",
    "for i in range(4):\n",
    "    if (div-16) % 8 ==0:\n",
    "        div = (div-16)//8 + 1\n",
    "        continue\n",
    "    else:\n",
    "        div = (div-16)//8 + 2\n",
    "        num += ((div-16)%8)*8**(i+1)\n",
    "    print(div)\n",
    "        "
   ]
  },
  {
   "cell_type": "code",
   "execution_count": 175,
   "metadata": {},
   "outputs": [],
   "source": [
    "x=np.array([1,2,3])"
   ]
  },
  {
   "cell_type": "code",
   "execution_count": 176,
   "metadata": {
    "collapsed": true
   },
   "outputs": [],
   "source": [
    "import torch"
   ]
  },
  {
   "cell_type": "code",
   "execution_count": 177,
   "metadata": {
    "collapsed": true
   },
   "outputs": [],
   "source": [
    "e=torch.Tensor(x)"
   ]
  },
  {
   "cell_type": "code",
   "execution_count": 179,
   "metadata": {},
   "outputs": [
    {
     "data": {
      "text/plain": [
       "tensor([[1., 2., 3.]])"
      ]
     },
     "execution_count": 179,
     "metadata": {},
     "output_type": "execute_result"
    }
   ],
   "source": [
    "e.unsqueeze(dim=0)"
   ]
  },
  {
   "cell_type": "code",
   "execution_count": 181,
   "metadata": {},
   "outputs": [
    {
     "data": {
      "text/plain": [
       "tensor([0])"
      ]
     },
     "execution_count": 181,
     "metadata": {},
     "output_type": "execute_result"
    }
   ],
   "source": [
    "torch.LongTensor([0])"
   ]
  },
  {
   "cell_type": "code",
   "execution_count": 186,
   "metadata": {
    "collapsed": true
   },
   "outputs": [],
   "source": [
    "o=torch.Tensor(np.array([1,2,3]))"
   ]
  },
  {
   "cell_type": "code",
   "execution_count": 183,
   "metadata": {},
   "outputs": [
    {
     "data": {
      "text/plain": [
       "1.0"
      ]
     },
     "execution_count": 183,
     "metadata": {},
     "output_type": "execute_result"
    }
   ],
   "source": [
    "np.float32(o)"
   ]
  },
  {
   "cell_type": "code",
   "execution_count": 189,
   "metadata": {},
   "outputs": [
    {
     "data": {
      "text/plain": [
       "tensor([1, 2, 3])"
      ]
     },
     "execution_count": 189,
     "metadata": {},
     "output_type": "execute_result"
    }
   ],
   "source": [
    "o.long()"
   ]
  },
  {
   "cell_type": "code",
   "execution_count": null,
   "metadata": {
    "collapsed": true
   },
   "outputs": [],
   "source": []
  }
 ],
 "metadata": {
  "kernelspec": {
   "display_name": "Python 3",
   "language": "python",
   "name": "python3"
  },
  "language_info": {
   "codemirror_mode": {
    "name": "ipython",
    "version": 3
   },
   "file_extension": ".py",
   "mimetype": "text/x-python",
   "name": "python",
   "nbconvert_exporter": "python",
   "pygments_lexer": "ipython3",
   "version": "3.6.1"
  }
 },
 "nbformat": 4,
 "nbformat_minor": 2
}
